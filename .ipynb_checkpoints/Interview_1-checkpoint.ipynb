{
 "cells": [
  {
   "cell_type": "code",
   "execution_count": 26,
   "metadata": {},
   "outputs": [
    {
     "name": "stdout",
     "output_type": "stream",
     "text": [
      "[[1]]\n",
      "[[1, 2]]\n",
      "[[1, 2, 3]]\n",
      "[[1, 2, 3], [18]]\n"
     ]
    }
   ],
   "source": [
    "'''\n",
    "example1:\n",
    "  inputs:\n",
    "    M: [15, 11, 8, 7, 7, 6, 4, 2, 1]\n",
    "    M_max: 20\n",
    "  output: [[15, 4, 1], [11, 8], [7, 7, 6], [2]]\n",
    "example2:\n",
    "  inputs:\n",
    "    M: [12, 11, 10, 9, 8, 7, 6, 5, 4, 3, 2, 1]\n",
    "    M_max: 13\n",
    "  output: [[12, 1], [11, 2], [10, 3], [9, 4], [8, 5], [7, 6]]\n",
    "'''\n",
    "\n",
    "## Smart scheduler\n",
    "def scheduler(arr, cap):\n",
    "    '''\n",
    "    arr: input array\n",
    "    cap: capacity limit\n",
    "    output: optimized list of container allocations\n",
    "    '''\n",
    "    output = [[]]\n",
    "    \n",
    "    for i in range(len(arr)):\n",
    "        found_bucket = False\n",
    "        for j in range(len(output)):\n",
    "            if arr[i] <= (cap - sum(output[j])):\n",
    "                output[j].append(arr[i])\n",
    "                found_bucket = True\n",
    "                print(output)\n",
    "                break\n",
    "        if found_bucket != True:\n",
    "            output.append([arr[i]])\n",
    "            \n",
    "    \n",
    "    return output\n",
    "\n",
    "arr = [1,2,3,18]\n",
    "cap = 20\n",
    "node = 5\n",
    "\n",
    "print(scheduler(arr,cap))\n",
    "      \n",
    "      \n"
   ]
  },
  {
   "cell_type": "code",
   "execution_count": 27,
   "metadata": {},
   "outputs": [
    {
     "name": "stdout",
     "output_type": "stream",
     "text": [
      "hello\n",
      "hello\n",
      "hello\n",
      "hello\n",
      "hello\n"
     ]
    }
   ],
   "source": [
    "for i in range(5):\n",
    "    print(\"hello\")"
   ]
  },
  {
   "cell_type": "code",
   "execution_count": null,
   "metadata": {},
   "outputs": [],
   "source": []
  }
 ],
 "metadata": {
  "kernelspec": {
   "display_name": "Python 3",
   "language": "python",
   "name": "python3"
  },
  "language_info": {
   "codemirror_mode": {
    "name": "ipython",
    "version": 3
   },
   "file_extension": ".py",
   "mimetype": "text/x-python",
   "name": "python",
   "nbconvert_exporter": "python",
   "pygments_lexer": "ipython3",
   "version": "3.6.9"
  }
 },
 "nbformat": 4,
 "nbformat_minor": 4
}
