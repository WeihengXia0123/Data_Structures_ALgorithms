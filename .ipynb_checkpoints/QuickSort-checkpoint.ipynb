{
 "cells": [
  {
   "cell_type": "code",
   "execution_count": 30,
   "metadata": {},
   "outputs": [],
   "source": [
    "def quickSort(arr):\n",
    "    while len(arr) > 1:\n",
    "        P_index = helper_partition(arr)\n",
    "        \n",
    "        L = arr[:P_index]\n",
    "        R = arr[P_index:]\n",
    "        \n",
    "        L = quickSort(L)\n",
    "        R = quickSort(R)\n",
    "        \n",
    "        return L+R\n",
    "    return arr\n",
    "    \n",
    "    \n",
    "def helper_partition(arr):\n",
    "    # sort the array so that all smaller variables are in the left side of pivot\n",
    "    i = -1\n",
    "    pivot = arr[-1]\n",
    "    for j in range(len(arr)):\n",
    "        if arr[j] <= pivot:\n",
    "            i += 1\n",
    "            arr[i], arr[j] = arr[j], arr[i]\n",
    "        j += 1\n",
    "    return i"
   ]
  },
  {
   "cell_type": "code",
   "execution_count": 47,
   "metadata": {},
   "outputs": [
    {
     "name": "stdout",
     "output_type": "stream",
     "text": [
      "[-13232, 1, 1, 1, 1, 1, 2, 2, 2, 3, 3, 4, 4, 5, 7, 9, 22, 123, 123, 123, 532, 4123, 22845, 999999]\n"
     ]
    }
   ],
   "source": [
    "arr = [2,1,9,4,7,3,123,22845,-13232,999999,1,1,1,1,22,2,2,3,5,4,532,123,4123,123]\n",
    "arr = quickSort(arr)\n",
    "print(arr)"
   ]
  },
  {
   "cell_type": "code",
   "execution_count": 55,
   "metadata": {},
   "outputs": [],
   "source": [
    "## Use quickSort to sort a list of dict,\n",
    "## according to their 'Name' attribute\n",
    "employees = [\n",
    "    {'Name': 'Alan Turing', 'age': 25, 'salary': 10000},\n",
    "    {'Name': 'Sharon Lin', 'age': 30, 'salary': 8000},\n",
    "    {'Name': 'John Hopkins', 'age': 18, 'salary': 1000},\n",
    "    {'Name': 'Mikhail Tal', 'age': 40, 'salary': 15000},\n",
    "]\n",
    "\n",
    "def quickSort_name(arr):\n",
    "    while len(arr) > 1:\n",
    "        P_index = helper_partition_name(arr)\n",
    "        \n",
    "        L = arr[:P_index]\n",
    "        R = arr[P_index:]\n",
    "        \n",
    "        L = quickSort_name(L)\n",
    "        R = quickSort_name(R)\n",
    "        \n",
    "        return L+R\n",
    "    return arr\n",
    "    \n",
    "    \n",
    "def helper_partition_name(arr):\n",
    "    # sort the array so that all smaller variables are in the left side of pivot\n",
    "    i = -1\n",
    "    pivot = arr[-1]\n",
    "    for j in range(len(arr)):\n",
    "        if arr[j].get('Name')[0] <= pivot.get('Name')[0]:\n",
    "            i += 1\n",
    "            arr[i], arr[j] = arr[j], arr[i]\n",
    "        j += 1\n",
    "    return i"
   ]
  },
  {
   "cell_type": "code",
   "execution_count": 56,
   "metadata": {},
   "outputs": [
    {
     "name": "stdout",
     "output_type": "stream",
     "text": [
      "[{'Name': 'Alan Turing', 'age': 25, 'salary': 10000}, {'Name': 'John Hopkins', 'age': 18, 'salary': 1000}, {'Name': 'Mikhail Tal', 'age': 40, 'salary': 15000}, {'Name': 'Sharon Lin', 'age': 30, 'salary': 8000}]\n"
     ]
    }
   ],
   "source": [
    "sorted_employees = quickSort_name(employees)\n",
    "print(sorted_employees)\n"
   ]
  },
  {
   "cell_type": "code",
   "execution_count": 52,
   "metadata": {},
   "outputs": [
    {
     "name": "stdout",
     "output_type": "stream",
     "text": [
      "Alan Turing\n"
     ]
    }
   ],
   "source": [
    "# employees = [\n",
    "#     {'Name': 'Alan Turing', 'age': 25, 'salary': 10000},\n",
    "#     {'Name': 'Sharon Lin', 'age': 30, 'salary': 8000},\n",
    "#     {'Name': 'John Hopkins', 'age': 18, 'salary': 1000},\n",
    "#     {'Name': 'Mikhail Tal', 'age': 40, 'salary': 15000},\n",
    "# ]\n",
    "\n",
    "# print(employees[0].get('Name'))"
   ]
  },
  {
   "cell_type": "code",
   "execution_count": null,
   "metadata": {},
   "outputs": [],
   "source": []
  }
 ],
 "metadata": {
  "kernelspec": {
   "display_name": "Python 3.6.9 64-bit",
   "language": "python",
   "name": "python36964bit8cbab5a1dd474523aad6135df4656cff"
  },
  "language_info": {
   "codemirror_mode": {
    "name": "ipython",
    "version": 3
   },
   "file_extension": ".py",
   "mimetype": "text/x-python",
   "name": "python",
   "nbconvert_exporter": "python",
   "pygments_lexer": "ipython3",
   "version": "3.6.9"
  }
 },
 "nbformat": 4,
 "nbformat_minor": 4
}
