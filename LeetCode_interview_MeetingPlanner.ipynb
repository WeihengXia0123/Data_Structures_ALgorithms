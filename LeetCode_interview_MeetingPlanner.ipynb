{
 "cells": [
  {
   "cell_type": "code",
   "execution_count": 6,
   "metadata": {},
   "outputs": [
    {
     "name": "stdout",
     "output_type": "stream",
     "text": [
      "[2, 6]\n"
     ]
    }
   ],
   "source": [
    "def meeting_planner(slotsA, slotsB, dur):\n",
    "    i=j=0\n",
    "\n",
    "    while i < len(slotsA) and j < len(slotsB):\n",
    "        start = max(slotsA[i][0], slotsB[j][0])\n",
    "        end = min(slotsA[i][1], slotsB[j][1])\n",
    "        duration = end - start\n",
    "        if duration >= dur:\n",
    "            return [start, start+dur]\n",
    "        if slotsA[i][1] < slotsB[j][1]:\n",
    "            i += 1\n",
    "        else:\n",
    "            j += 1\n",
    "\n",
    "    return []\n",
    "  \n",
    "print(meeting_planner([[1,10],[11,12]],[[2,9]],4))"
   ]
  },
  {
   "cell_type": "code",
   "execution_count": null,
   "metadata": {},
   "outputs": [],
   "source": []
  },
  {
   "cell_type": "code",
   "execution_count": null,
   "metadata": {},
   "outputs": [],
   "source": []
  }
 ],
 "metadata": {
  "kernelspec": {
   "display_name": "Python 3.6.9 64-bit",
   "language": "python",
   "name": "python36964bit8cbab5a1dd474523aad6135df4656cff"
  },
  "language_info": {
   "codemirror_mode": {
    "name": "ipython",
    "version": 3
   },
   "file_extension": ".py",
   "mimetype": "text/x-python",
   "name": "python",
   "nbconvert_exporter": "python",
   "pygments_lexer": "ipython3",
   "version": "3.6.9"
  }
 },
 "nbformat": 4,
 "nbformat_minor": 4
}
